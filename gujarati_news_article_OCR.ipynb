{
 "cells": [
  {
   "cell_type": "markdown",
   "metadata": {},
   "source": [
    "# Sachin Jeshani"
   ]
  },
  {
   "cell_type": "markdown",
   "metadata": {},
   "source": [
    "# OpenCV OCR and Gujarati text recognition with Tesseract"
   ]
  },
  {
   "cell_type": "markdown",
   "metadata": {},
   "source": [
    "- Supporting packages"
   ]
  },
  {
   "cell_type": "code",
   "execution_count": 1,
   "metadata": {},
   "outputs": [],
   "source": [
    "import cv2\n",
    "import pytesseract\n",
    "import imutils         \n",
    "from imutils.object_detection import non_max_suppression\n",
    "import numpy as np\n",
    "import argparse\n",
    "\n",
    "from PIL import ImageFont, ImageDraw, Image\n",
    "\n",
    "%matplotlib inline\n",
    "from matplotlib import pyplot as plt\n",
    "\n",
    "import warnings\n",
    "warnings.filterwarnings(\"ignore\")"
   ]
  },
  {
   "cell_type": "markdown",
   "metadata": {},
   "source": [
    "- Import image"
   ]
  },
  {
   "cell_type": "code",
   "execution_count": 2,
   "metadata": {},
   "outputs": [],
   "source": [
    "image = '2021-01-20/1B0E39B.jpg'"
   ]
  },
  {
   "cell_type": "markdown",
   "metadata": {},
   "source": [
    "- Text geometry prediction"
   ]
  },
  {
   "cell_type": "code",
   "execution_count": 3,
   "metadata": {},
   "outputs": [],
   "source": [
    "min_confidence = 0.9\n",
    "\n",
    "def decode_predictions(scores, geometry):\n",
    "    # grab the number of rows and columns from the scores volume, then\n",
    "    # initialize our set of bounding box rectangles and corresponding\n",
    "    # confidence scores\n",
    "    (numRows, numCols) = scores.shape[2:4]\n",
    "    rects = []\n",
    "    confidences = []\n",
    "    # loop over the number of rows\n",
    "    for y in range(0, numRows):\n",
    "        # extract the scores (probabilities), followed by the\n",
    "        # geometrical data used to derive potential bounding box\n",
    "        # coordinates that surround text\n",
    "        scoresData = scores[0, 0, y]\n",
    "        xData0 = geometry[0, 0, y]\n",
    "        xData1 = geometry[0, 1, y]\n",
    "        xData2 = geometry[0, 2, y]\n",
    "        xData3 = geometry[0, 3, y]\n",
    "        anglesData = geometry[0, 4, y]\n",
    "        # loop over the number of columns\n",
    "        for x in range(0, numCols):\n",
    "            # if our score does not have sufficient probability,\n",
    "            # ignore it\n",
    "            if scoresData[x] < min_confidence:\n",
    "                continue\n",
    "            # compute the offset factor as our resulting feature\n",
    "            # maps will be 4x smaller than the input image\n",
    "            (offsetX, offsetY) = (x * 4.0, y * 4.0)\n",
    "            # extract the rotation angle for the prediction and\n",
    "            # then compute the sin and cosine\n",
    "            angle = anglesData[x]\n",
    "            cos = np.cos(angle)\n",
    "            sin = np.sin(angle)\n",
    "            # use the geometry volume to derive the width and height\n",
    "            # of the bounding box\n",
    "            h = xData0[x] + xData2[x]\n",
    "            w = xData1[x] + xData3[x]\n",
    "            # compute both the starting and ending (x, y)-coordinates\n",
    "            # for the text prediction bounding box\n",
    "            endX = int(offsetX + (cos * xData1[x]) + (sin * xData2[x]))\n",
    "            endY = int(offsetY - (sin * xData1[x]) + (cos * xData2[x]))\n",
    "            startX = int(endX - w)\n",
    "            startY = int(endY - h)\n",
    "            # add the bounding box coordinates and probability score\n",
    "            # to our respective lists\n",
    "            rects.append((startX, startY, endX, endY))\n",
    "            confidences.append(scoresData[x])\n",
    "    # return a tuple of the bounding boxes and associated confidences\n",
    "    return (rects, confidences)"
   ]
  },
  {
   "cell_type": "markdown",
   "metadata": {},
   "source": [
    "- Reshaping the image "
   ]
  },
  {
   "cell_type": "code",
   "execution_count": 4,
   "metadata": {},
   "outputs": [],
   "source": [
    "# load the input image and grab the image dimensions\n",
    "image = cv2.imread(image)\n",
    "orig = image.copy()\n",
    "(origH, origW) = image.shape[:2]\n",
    "# set the new width and height and then determine the ratio in change\n",
    "# for both the width and height\n",
    "(newW, newH) = ((origW//32)*32, (origH//32)*32)\n",
    "rW = origW / float(newW)\n",
    "rH = origH / float(newH)\n",
    "# resize the image and grab the new image dimensions\n",
    "image = cv2.resize(image, (newW, newH))\n",
    "(H, W) = image.shape[:2]"
   ]
  },
  {
   "cell_type": "markdown",
   "metadata": {},
   "source": [
    "- Import EAST text detector model"
   ]
  },
  {
   "cell_type": "code",
   "execution_count": 5,
   "metadata": {},
   "outputs": [
    {
     "name": "stdout",
     "output_type": "stream",
     "text": [
      "[INFO] loading EAST text detector...\n"
     ]
    }
   ],
   "source": [
    "# define the two output layer names for the EAST detector model that\n",
    "# we are interested in -- the first is the output probabilities and the\n",
    "# second can be used to derive the bounding box coordinates of text\n",
    "layerNames = [\n",
    "    \"feature_fusion/Conv_7/Sigmoid\",\n",
    "    \"feature_fusion/concat_3\"]\n",
    "# load the pre-trained EAST text detector\n",
    "print(\"[INFO] loading EAST text detector...\")\n",
    "net = cv2.dnn.readNet('frozen_east_text_detection.pb')"
   ]
  },
  {
   "cell_type": "markdown",
   "metadata": {},
   "source": [
    "- Region of interest box prediction"
   ]
  },
  {
   "cell_type": "code",
   "execution_count": 6,
   "metadata": {},
   "outputs": [],
   "source": [
    "# construct a blob from the image and then perform a forward pass of\n",
    "# the model to obtain the two output layer sets\n",
    "blob = cv2.dnn.blobFromImage(image, 1.0, (W, H), \n",
    "                             (123.68, 116.78, 103.94), swapRB=True, crop=False)\n",
    "net.setInput(blob)\n",
    "(scores, geometry) = net.forward(layerNames)\n",
    "# decode the predictions, then  apply non-maxima suppression to\n",
    "# suppress weak, overlapping bounding boxes\n",
    "(rects, confidences) = decode_predictions(scores, geometry)\n",
    "boxes = non_max_suppression(np.array(rects), probs=confidences)"
   ]
  },
  {
   "cell_type": "markdown",
   "metadata": {},
   "source": [
    "- Convert ROI image into string"
   ]
  },
  {
   "cell_type": "code",
   "execution_count": 7,
   "metadata": {},
   "outputs": [],
   "source": [
    "padding = 0.00\n",
    "results = []\n",
    "\n",
    "# loop over the bounding boxes\n",
    "for (startX, startY, endX, endY) in boxes:\n",
    "    # scale the bounding box coordinates based on the respective\n",
    "    # ratios\n",
    "    startX = int(startX * rW)\n",
    "    startY = int(startY * rH)\n",
    "    endX = int(endX * rW)\n",
    "    endY = int(endY * rH)\n",
    "    # in order to obtain a better OCR of the text we can potentially\n",
    "    # apply a bit of padding surrounding the bounding box -- here we\n",
    "    # are computing the deltas in both the x and y directions\n",
    "    dX = int((endX - startX) * padding)\n",
    "    dY = int((endY - startY) * padding)\n",
    "    # apply padding to each side of the bounding box, respectively\n",
    "    startX = max(0, startX - dX)\n",
    "    startY = max(0, startY - dY)\n",
    "    endX = min(origW, endX + (dX * 2))\n",
    "    endY = min(origH, endY + (dY * 2))\n",
    "    # extract the actual padded ROI\n",
    "    roi = orig[startY:endY, startX:endX]\n",
    "    # in order to apply Tesseract v4 to OCR text we must supply\n",
    "    # (1) a language, (2) an OEM flag of 4, indicating that the we\n",
    "    # wish to use the LSTM neural net model for OCR, and finally\n",
    "    # (3) an OEM value, in this case, 7 which implies that we are\n",
    "    # treating the ROI as a single line of text\n",
    "    config = (\"-l guj --oem 1 --psm 7\")\n",
    "    text = pytesseract.image_to_string(roi, config=config)\n",
    "    # add the bounding box coordinates and OCR'd text to the list\n",
    "    # of results\n",
    "    results.append(((startX, startY, endX, endY), text))"
   ]
  },
  {
   "cell_type": "code",
   "execution_count": 8,
   "metadata": {},
   "outputs": [
    {
     "data": {
      "text/plain": [
       "[((12, 257, 41, 275), 'નિર્ણય\\n\\x0c'),\n",
       " ((10, 184, 106, 201), \"“વિજ્ઞાપનદાતાની'\\n\\x0c\"),\n",
       " ((140, 89, 197, 107), 'કસદ%થિ ત્રમાં\\n\\x0c'),\n",
       " ((11, 91, 58, 107), 'વાચકોને\\n\\x0c'),\n",
       " ((49, 60, 167, 82), 'ડીસ્કલેમર સ્પષ્ટતા\\n\\x0c'),\n",
       " ((45, 258, 79, 275), 'લેવાનો\\n\\x0c'),\n",
       " ((11, 108, 45, 126), 'પ્રપિદ્ધ\\n\\x0c'),\n",
       " ((65, 89, 123, 107), '૪ઝણાવવાને\\n\\x0c'),\n",
       " ((61, 127, 103, 146), 'માહિતી\\n\\x0c'),\n",
       " ((12, 240, 39, 258), 'તપાર\\n\\x0c'),\n",
       " ((80, 107, 126, 126), 'કોઈપણ\\n\\x0c'),\n",
       " ((108, 239, 168, 256), 'જવાબદારી\\n\\x0c'),\n",
       " ((124, 275, 195, 292), '“વ્યવસ્થાપક\\n\\x0c'),\n",
       " ((83, 144, 159, 164), 'વિજ્ઞાપનદાતા\\n\\x0c'),\n",
       " ((109, 219, 150, 239), 'પોતાની\\n\\x0c'),\n",
       " ((61, 20, 189, 54), '૩૬૦ગિગ્ર\\n\\x0c'),\n",
       " ((97, 127, 142, 146), 'સથવા\\n\\x0c'),\n",
       " ((154, 201, 196, 219), \"'વાબદારી\\n\\x0c\"),\n",
       " ((70, 240, 107, 258), 'પોતાની\\n\\x0c'),\n",
       " ((142, 126, 185, 145), 'ઉત્પાદન\\n\\x0c'),\n",
       " ((137, 108, 201, 127), 'હેરખબારમાં\\n\\x0c'),\n",
       " ((158, 165, 196, 181), '1કાદારી\\n\\x0c'),\n",
       " ((45, 240, 72, 258), 'કરીને\\n\\x0c'),\n",
       " ((79, 259, 111, 275), 'રહેશે,\\n\\x0c'),\n",
       " ((57, 199, 107, 221), 'મી કોઇપણ\\n\\x0c'),\n",
       " ((168, 239, 197, 257), 'યોગ્ય\\n\\x0c'),\n",
       " ((111, 202, 141, 222), 'પ્રકારે\\n\\x0c'),\n",
       " ((68, 218, 110, 240), 'વાચક્રોએ\\n\\x0c'),\n",
       " ((50, 109, 80, 126), 'થયેલ\\n\\x0c'),\n",
       " ((13, 127, 49, 145), 'જદાવેલ\\n\\x0c'),\n",
       " ((169, 218, 200, 240), 'પુરતી\\n\\x0c'),\n",
       " ((11, 221, 39, 240), 'રહેશે\\n\\x0c'),\n",
       " ((11, 147, 39, 165), 'સેવા\\n\\x0c'),\n",
       " ((11, 166, 50, 182), 'દાવા\\n\\x0c'),\n",
       " ((88, 163, 137, 182), 'સંપર્ણ\\n\\x0c'),\n",
       " ((38, 165, 93, 183), 'અંગેની\\n\\x0c'),\n",
       " ((169, 146, 196, 163), 'કરેલ\\n\\x0c'),\n",
       " ((13, 200, 57, 218), 'કસીશમિત્રઃ\\n\\x0c')]"
      ]
     },
     "execution_count": 8,
     "metadata": {},
     "output_type": "execute_result"
    }
   ],
   "source": [
    "results"
   ]
  },
  {
   "cell_type": "markdown",
   "metadata": {},
   "source": [
    "- Inspecting result"
   ]
  },
  {
   "cell_type": "code",
   "execution_count": 17,
   "metadata": {},
   "outputs": [
    {
     "name": "stdout",
     "output_type": "stream",
     "text": [
      "OCR TEXT\n",
      "========\n",
      "૩૬૦ગિગ્ર\n",
      "\f",
      "\n",
      "\n",
      "OCR TEXT\n",
      "========\n",
      "ડીસ્કલેમર સ્પષ્ટતા\n",
      "\f",
      "\n",
      "\n",
      "OCR TEXT\n",
      "========\n",
      "કસદ%થિ ત્રમાં\n",
      "\f",
      "\n",
      "\n",
      "OCR TEXT\n",
      "========\n",
      "૪ઝણાવવાને\n",
      "\f",
      "\n",
      "\n",
      "OCR TEXT\n",
      "========\n",
      "વાચકોને\n",
      "\f",
      "\n",
      "\n",
      "OCR TEXT\n",
      "========\n",
      "કોઈપણ\n",
      "\f",
      "\n",
      "\n",
      "OCR TEXT\n",
      "========\n",
      "પ્રપિદ્ધ\n",
      "\f",
      "\n",
      "\n",
      "OCR TEXT\n",
      "========\n",
      "હેરખબારમાં\n",
      "\f",
      "\n",
      "\n",
      "OCR TEXT\n",
      "========\n",
      "થયેલ\n",
      "\f",
      "\n",
      "\n",
      "OCR TEXT\n",
      "========\n",
      "ઉત્પાદન\n",
      "\f",
      "\n",
      "\n",
      "OCR TEXT\n",
      "========\n",
      "માહિતી\n",
      "\f",
      "\n",
      "\n",
      "OCR TEXT\n",
      "========\n",
      "સથવા\n",
      "\f",
      "\n",
      "\n",
      "OCR TEXT\n",
      "========\n",
      "જદાવેલ\n",
      "\f",
      "\n",
      "\n",
      "OCR TEXT\n",
      "========\n",
      "વિજ્ઞાપનદાતા\n",
      "\f",
      "\n",
      "\n",
      "OCR TEXT\n",
      "========\n",
      "કરેલ\n",
      "\f",
      "\n",
      "\n",
      "OCR TEXT\n",
      "========\n",
      "સેવા\n",
      "\f",
      "\n",
      "\n",
      "OCR TEXT\n",
      "========\n",
      "સંપર્ણ\n",
      "\f",
      "\n",
      "\n"
     ]
    }
   ],
   "source": [
    "# sort the results bounding box coordinates from top to bottom\n",
    "results = sorted(results, key=lambda r:r[0][1])\n",
    "# loop over the results\n",
    "for ((startX, startY, endX, endY), text) in results[:-1]:\n",
    "    # display the text OCR'd by Tesseract\n",
    "    print(\"OCR TEXT\")\n",
    "    print(\"========\")\n",
    "    print(\"{}\\n\".format(text))\n",
    "    # strip out non-ASCII text so we can draw the text on the image\n",
    "    # using OpenCV, then draw the text and a bounding box surrounding\n",
    "    # the text region of the input image\n",
    "    #text = \"\".join([c if ord(c) < 128 else \"\" for c in text]).strip()\n",
    "    text = text.strip()\n",
    "    output = orig.copy()\n",
    "    cv2.rectangle(output, (startX, startY), (endX, endY), (0, 0, 255), 2)\n",
    "    \n",
    "    fontpath = 'arial-unicode-ms.ttf' \n",
    "    font = ImageFont.truetype(fontpath, 32)\n",
    "    img_pil = Image.fromarray(output)\n",
    "    draw = ImageDraw.Draw(img_pil)\n",
    "    draw.text((startX, startY - 50),  text, font = font, fill = (0,0,255,255))\n",
    "    output = np.array(img_pil)\n",
    "\n",
    "\n",
    "    #cv2.putText(output, text, (startX, startY - 20), cv2.FONT_HERSHEY_SIMPLEX, 1.2, (0, 0, 255), 3)\n",
    "    # show the output image\n",
    "    output = cv2.resize(output, (500, 600))\n",
    "    cv2.imshow(\"Text Detection\", output)\n",
    "    #cv2.waitKey(0)\n",
    "    if cv2.waitKey(0) & 0xFF == ord('q'):\n",
    "        break\n",
    "cv2.destroyAllWindows()"
   ]
  },
  {
   "cell_type": "code",
   "execution_count": null,
   "metadata": {},
   "outputs": [],
   "source": []
  }
 ],
 "metadata": {
  "kernelspec": {
   "display_name": "Python 3",
   "language": "python",
   "name": "python3"
  },
  "language_info": {
   "codemirror_mode": {
    "name": "ipython",
    "version": 3
   },
   "file_extension": ".py",
   "mimetype": "text/x-python",
   "name": "python",
   "nbconvert_exporter": "python",
   "pygments_lexer": "ipython3",
   "version": "3.8.5"
  },
  "toc": {
   "base_numbering": 1,
   "nav_menu": {},
   "number_sections": true,
   "sideBar": true,
   "skip_h1_title": true,
   "title_cell": "Table of Contents",
   "title_sidebar": "Contents",
   "toc_cell": false,
   "toc_position": {},
   "toc_section_display": true,
   "toc_window_display": false
  }
 },
 "nbformat": 4,
 "nbformat_minor": 4
}
